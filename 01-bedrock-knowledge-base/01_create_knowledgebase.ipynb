{
 "cells": [
  {
   "cell_type": "markdown",
   "id": "46f3175c",
   "metadata": {},
   "source": [
    "Let's start by creating a [Knowledge Base for Amazon Bedrock](https://aws.amazon.com/bedrock/knowledge-bases/) \n",
    "to provide knowledge about mortgages. In this notebook, we will create a knowledge base using the content available in the mortgage_dataset folder. This knowledge base will be used by Mortgage assistant agent to answer general QnA. "
   ]
  },
  {
   "cell_type": "markdown",
   "id": "f10b7461",
   "metadata": {},
   "source": [
    "Step 1: Install and import the libraries required"
   ]
  },
  {
   "cell_type": "code",
   "execution_count": null,
   "id": "e03e4969",
   "metadata": {},
   "outputs": [],
   "source": [
    "# Dependencies are managed by uv via pyproject.toml\n",
    "# Run 'uv sync' in terminal to install all dependencies\n",
    "# Update the Kernel to pint to the new uv that's created as part of prerequisite\n",
    "print(\"Dependencies installed via uv sync\")"
   ]
  },
  {
   "cell_type": "code",
   "execution_count": 1,
   "id": "de079de3-efb6-43bf-beff-cea056850a97",
   "metadata": {},
   "outputs": [],
   "source": [
    "import os\n",
    "import time\n",
    "import boto3\n",
    "import logging\n",
    "import botocore\n",
    "import json\n",
    "from textwrap import dedent\n",
    "\n",
    "%load_ext autoreload\n",
    "%autoreload 2"
   ]
  },
  {
   "cell_type": "markdown",
   "id": "20333837-76b5-4699-8fb3-260829df8098",
   "metadata": {},
   "source": [
    "In the following cell, we add and `knowledge_base_helper` on Python path. This provides functionality for creating the knowledge base if it does not already exists.\n",
    "\n"
   ]
  },
  {
   "cell_type": "code",
   "execution_count": 2,
   "id": "560e3292-1e89-4014-bcd4-29241b82c961",
   "metadata": {},
   "outputs": [],
   "source": [
    "import sys\n",
    "sys.path.insert(0, '..') \n",
    "\n",
    "\n",
    "from src.utils.knowledge_base_helper import KnowledgeBasesForAmazonBedrock\n",
    "\n",
    "kb = KnowledgeBasesForAmazonBedrock()"
   ]
  },
  {
   "cell_type": "markdown",
   "id": "ae64d94a",
   "metadata": {},
   "source": [
    "Create boto3 clients"
   ]
  },
  {
   "cell_type": "code",
   "execution_count": 3,
   "id": "02ad6143-fde8-4ecf-88a5-ba333d722b35",
   "metadata": {},
   "outputs": [],
   "source": [
    "s3_client = boto3.client('s3')\n",
    "sts_client = boto3.client('sts')\n",
    "bedrock_agent_runtime_client = boto3.client('bedrock-agent-runtime')"
   ]
  },
  {
   "cell_type": "markdown",
   "id": "a93fa5a8",
   "metadata": {},
   "source": [
    "Get the region and bucket name. The bucket will be created if its not present already."
   ]
  },
  {
   "cell_type": "code",
   "execution_count": 4,
   "id": "2e79386b-d639-4894-96d1-cb5180e2fc73",
   "metadata": {},
   "outputs": [],
   "source": [
    "region = boto3.session.Session().region_name\n",
    "account_id = sts_client.get_caller_identity()[\"Account\"]\n",
    "suffix = f\"{region}-{account_id}\"\n",
    "bucket_name = f'agentcore-workshop-{suffix}'"
   ]
  },
  {
   "cell_type": "code",
   "execution_count": null,
   "id": "24a281a6-d3b3-4cd4-8ddc-87b46225a8ef",
   "metadata": {},
   "outputs": [],
   "source": [
    "agent_foundation_model = [\"us.anthropic.claude-3-7-sonnet-20250219-v1:0\"]"
   ]
  },
  {
   "cell_type": "markdown",
   "id": "8ec63db8-5b50-46e6-9ace-729b60d240f8",
   "metadata": {},
   "source": [
    "### Create Knowledge Base \n",
    " We will now create the knowledge base with Amazon OpenSearch Serverless as the vector store. To do so, we will use the helper class `KnowledgeBasesForAmazonBedrock` which creates the knowledge base and all of its prerequisites:\n",
    "1. IAM roles and policies\n",
    "2. S3 bucket\n",
    "3. Amazon OpenSearch Serverless encryption, network and data access policies\n",
    "4. Amazon OpenSearch Serverless collection\n",
    "5. Amazon OpenSearch Serverless vector index\n",
    "6. Knowledge Base\n",
    "7. Knowledge Base data source\n",
    "\n",
    "This might take a few minutes, so have a break!"
   ]
  },
  {
   "cell_type": "code",
   "execution_count": 8,
   "id": "efaeec57-ef8e-48f1-839e-922250db2f78",
   "metadata": {},
   "outputs": [],
   "source": [
    "knowledge_base_name = \"mortgage-agent-kb-test1\"\n",
    "\n",
    "knowledge_base_description = \"KB containing information on mortgages\""
   ]
  },
  {
   "cell_type": "code",
   "execution_count": 9,
   "id": "037d2c4e-9906-4a4d-8188-d22c65448460",
   "metadata": {},
   "outputs": [
    {
     "name": "stdout",
     "output_type": "stream",
     "text": [
      "Creating KB mortgage-agent-kb-test1\n",
      "========================================================================================\n",
      "Step 1 - Creating or retrieving agentcore-workshop-us-west-2-266735823905 S3 bucket for Knowledge Base documents\n",
      "Bucket agentcore-workshop-us-west-2-266735823905 already exists - retrieving it!\n",
      "========================================================================================\n",
      "Step 2 - Creating Knowledge Base Execution Role (AmazonBedrockExecutionRoleForKnowledgeBase_303) and Policies\n",
      "========================================================================================\n",
      "Step 3 - Creating OSS encryption, network and data access policies\n",
      "========================================================================================\n",
      "Step 4 - Creating OSS Collection (this step takes a couple of minutes to complete)\n",
      "{ 'ResponseMetadata': { 'HTTPHeaders': { 'connection': 'keep-alive',\n",
      "                                         'content-length': '319',\n",
      "                                         'content-type': 'application/x-amz-json-1.0',\n",
      "                                         'date': 'Wed, 03 Sep 2025 04:55:24 '\n",
      "                                                 'GMT',\n",
      "                                         'x-amzn-requestid': '6648eeb8-657d-4514-9de6-618202cabc7e'},\n",
      "                        'HTTPStatusCode': 200,\n",
      "                        'RequestId': '6648eeb8-657d-4514-9de6-618202cabc7e',\n",
      "                        'RetryAttempts': 0},\n",
      "  'createCollectionDetail': { 'arn': 'arn:aws:aoss:us-west-2:266735823905:collection/d2ecbghz7uz88vvik7tj',\n",
      "                              'createdDate': 1756875324254,\n",
      "                              'id': 'd2ecbghz7uz88vvik7tj',\n",
      "                              'kmsKeyArn': 'auto',\n",
      "                              'lastModifiedDate': 1756875324254,\n",
      "                              'name': 'mortgage-agent-kb-test1-303',\n",
      "                              'standbyReplicas': 'ENABLED',\n",
      "                              'status': 'CREATING',\n",
      "                              'type': 'VECTORSEARCH'}}\n",
      "d2ecbghz7uz88vvik7tj.us-west-2.aoss.amazonaws.com\n",
      "Creating collection...\n",
      "..............................\n",
      "Collection successfully created:\n",
      "[ { 'arn': 'arn:aws:aoss:us-west-2:266735823905:collection/d2ecbghz7uz88vvik7tj',\n",
      "    'collectionEndpoint': 'https://d2ecbghz7uz88vvik7tj.us-west-2.aoss.amazonaws.com',\n",
      "    'createdDate': 1756875324254,\n",
      "    'dashboardEndpoint': 'https://d2ecbghz7uz88vvik7tj.us-west-2.aoss.amazonaws.com/_dashboards',\n",
      "    'id': 'd2ecbghz7uz88vvik7tj',\n",
      "    'kmsKeyArn': 'auto',\n",
      "    'lastModifiedDate': 1756875347524,\n",
      "    'name': 'mortgage-agent-kb-test1-303',\n",
      "    'standbyReplicas': 'ENABLED',\n",
      "    'status': 'ACTIVE',\n",
      "    'type': 'VECTORSEARCH'}]\n",
      "Opensearch serverless arn:  arn:aws:iam::266735823905:policy/AmazonBedrockOSSPolicyForKnowledgeBase_303\n",
      "Sleeping for a minute to ensure data access rules have been enforced\n",
      "========================================================================================\n",
      "Step 5 - Creating OSS Vector Index\n",
      "\n",
      "Creating index:\n",
      "{ 'acknowledged': True,\n",
      "  'index': 'mortgage-agent-kb-test1-index-303',\n",
      "  'shards_acknowledged': True}\n",
      "========================================================================================\n",
      "Step 6 - Creating Knowledge Base\n",
      "{'type': 'VECTOR', 'vectorKnowledgeBaseConfiguration': {'embeddingModelArn': 'arn:aws:bedrock:us-west-2::foundation-model/amazon.titan-embed-text-v2:0'}}\n",
      "{ 'createdAt': datetime.datetime(2025, 9, 3, 4, 57, 58, 73214, tzinfo=tzutc()),\n",
      "  'description': 'KB containing information on mortgages',\n",
      "  'knowledgeBaseArn': 'arn:aws:bedrock:us-west-2:266735823905:knowledge-base/QVBZHOLKNO',\n",
      "  'knowledgeBaseConfiguration': { 'type': 'VECTOR',\n",
      "                                  'vectorKnowledgeBaseConfiguration': { 'embeddingModelArn': 'arn:aws:bedrock:us-west-2::foundation-model/amazon.titan-embed-text-v2:0'}},\n",
      "  'knowledgeBaseId': 'QVBZHOLKNO',\n",
      "  'name': 'mortgage-agent-kb-test1',\n",
      "  'roleArn': 'arn:aws:iam::266735823905:role/AmazonBedrockExecutionRoleForKnowledgeBase_303',\n",
      "  'status': 'CREATING',\n",
      "  'storageConfiguration': { 'opensearchServerlessConfiguration': { 'collectionArn': 'arn:aws:aoss:us-west-2:266735823905:collection/d2ecbghz7uz88vvik7tj',\n",
      "                                                                   'fieldMapping': { 'metadataField': 'text-metadata',\n",
      "                                                                                     'textField': 'text',\n",
      "                                                                                     'vectorField': 'vector'},\n",
      "                                                                   'vectorIndexName': 'mortgage-agent-kb-test1-index-303'},\n",
      "                            'type': 'OPENSEARCH_SERVERLESS'},\n",
      "  'updatedAt': datetime.datetime(2025, 9, 3, 4, 57, 58, 73214, tzinfo=tzutc())}\n",
      "{ 'createdAt': datetime.datetime(2025, 9, 3, 4, 57, 59, 440081, tzinfo=tzutc()),\n",
      "  'dataDeletionPolicy': 'RETAIN',\n",
      "  'dataSourceConfiguration': { 's3Configuration': { 'bucketArn': 'arn:aws:s3:::agentcore-workshop-us-west-2-266735823905'},\n",
      "                               'type': 'S3'},\n",
      "  'dataSourceId': 'W0DC94D6DG',\n",
      "  'description': 'KB containing information on mortgages',\n",
      "  'knowledgeBaseId': 'QVBZHOLKNO',\n",
      "  'name': 'mortgage-agent-kb-test1',\n",
      "  'status': 'AVAILABLE',\n",
      "  'updatedAt': datetime.datetime(2025, 9, 3, 4, 57, 59, 440081, tzinfo=tzutc()),\n",
      "  'vectorIngestionConfiguration': { 'chunkingConfiguration': { 'chunkingStrategy': 'FIXED_SIZE',\n",
      "                                                               'fixedSizeChunkingConfiguration': { 'maxTokens': 512,\n",
      "                                                                                                   'overlapPercentage': 20}}}}\n",
      "========================================================================================\n",
      "Knowledge Base ID: QVBZHOLKNO\n",
      "Data Source ID: W0DC94D6DG\n",
      "CPU times: user 502 ms, sys: 83.8 ms, total: 586 ms\n",
      "Wall time: 3min 42s\n"
     ]
    }
   ],
   "source": [
    "%%time\n",
    "kb_id, ds_id = kb.create_or_retrieve_knowledge_base(\n",
    "    knowledge_base_name,\n",
    "    knowledge_base_description,\n",
    "    bucket_name\n",
    ")\n",
    "\n",
    "print(f\"Knowledge Base ID: {kb_id}\")\n",
    "print(f\"Data Source ID: {ds_id}\")\n"
   ]
  },
  {
   "cell_type": "code",
   "execution_count": null,
   "id": "ec0b356b",
   "metadata": {},
   "outputs": [],
   "source": [
    "# function to upload to S3 bucket\n",
    "import boto3\n",
    "\n",
    "def upload_file_to_s3(file_path, bucket_name, object_key=None):\n",
    "    \"\"\"Upload a file to S3 bucket\"\"\"\n",
    "    s3_client = boto3.client('s3')\n",
    "    \n",
    "    # Check if bucket exists, create if not\n",
    "    existing_buckets = [bucket['Name'] for bucket in s3_client.list_buckets()['Buckets']]\n",
    "    if bucket_name not in existing_buckets:\n",
    "        s3_client.create_bucket(Bucket=bucket_name)\n",
    "    \n",
    "    if object_key is None:\n",
    "        object_key = file_path.split('/')[-1]\n",
    "    \n",
    "    s3_client.upload_file(file_path, bucket_name, object_key)\n",
    "    return f\"s3://{bucket_name}/{object_key}\""
   ]
  },
  {
   "cell_type": "code",
   "execution_count": null,
   "id": "63553727",
   "metadata": {},
   "outputs": [],
   "source": [
    "upload_file_to_s3(\"mortgage_dataset/15-Year vs. 30-Year Mortgage What's the Difference .html\", bucket_name,\"15-Year vs. 30-Year Mortgage What's the Difference .html\") "
   ]
  },
  {
   "cell_type": "code",
   "execution_count": null,
   "id": "16c89668-293c-4ddf-ac58-6c9c901c73a7",
   "metadata": {},
   "outputs": [],
   "source": [
    "upload_file_to_s3(\"mortgage_dataset/Mortgage Refinancing When Does It Make Sense .html\", bucket_name,\"Mortgage Refinancing When Does It Make Sense .html\")"
   ]
  },
  {
   "cell_type": "markdown",
   "id": "49496fd1-de36-431e-a7d5-12852844ba03",
   "metadata": {},
   "source": [
    "Now we ingest the documents, which chunks the source documents and stores an embedding for each chunk into the underying knowledge base vector store. For a simple example, this ingestion takes a couple minutes."
   ]
  },
  {
   "cell_type": "code",
   "execution_count": 10,
   "id": "870811ef-78f1-41f3-9e8e-0ac0c9462db8",
   "metadata": {},
   "outputs": [
    {
     "name": "stdout",
     "output_type": "stream",
     "text": [
      "{ 'dataSourceId': 'W0DC94D6DG',\n",
      "  'ingestionJobId': 'WUNLGASBWN',\n",
      "  'knowledgeBaseId': 'QVBZHOLKNO',\n",
      "  'startedAt': datetime.datetime(2025, 9, 3, 5, 1, 36, 992240, tzinfo=tzutc()),\n",
      "  'statistics': { 'numberOfDocumentsDeleted': 0,\n",
      "                  'numberOfDocumentsFailed': 0,\n",
      "                  'numberOfDocumentsScanned': 0,\n",
      "                  'numberOfMetadataDocumentsModified': 0,\n",
      "                  'numberOfMetadataDocumentsScanned': 0,\n",
      "                  'numberOfModifiedDocumentsIndexed': 0,\n",
      "                  'numberOfNewDocumentsIndexed': 0},\n",
      "  'status': 'STARTING',\n",
      "  'updatedAt': datetime.datetime(2025, 9, 3, 5, 1, 36, 992240, tzinfo=tzutc())}\n",
      "{ 'dataSourceId': 'W0DC94D6DG',\n",
      "  'ingestionJobId': 'WUNLGASBWN',\n",
      "  'knowledgeBaseId': 'QVBZHOLKNO',\n",
      "  'startedAt': datetime.datetime(2025, 9, 3, 5, 1, 36, 992240, tzinfo=tzutc()),\n",
      "  'statistics': { 'numberOfDocumentsDeleted': 0,\n",
      "                  'numberOfDocumentsFailed': 0,\n",
      "                  'numberOfDocumentsScanned': 2,\n",
      "                  'numberOfMetadataDocumentsModified': 0,\n",
      "                  'numberOfMetadataDocumentsScanned': 0,\n",
      "                  'numberOfModifiedDocumentsIndexed': 0,\n",
      "                  'numberOfNewDocumentsIndexed': 2},\n",
      "  'status': 'COMPLETE',\n",
      "  'updatedAt': datetime.datetime(2025, 9, 3, 5, 1, 43, 2451, tzinfo=tzutc())}\n",
      "KB synchronization completed\n",
      "\n",
      "CPU times: user 32.8 ms, sys: 20.1 ms, total: 52.9 ms\n",
      "Wall time: 17.6 s\n"
     ]
    }
   ],
   "source": [
    "%%time\n",
    "# Start an ingestion job to synchronize data\n",
    "kb.synchronize_data(kb_id, ds_id)\n",
    "print('KB synchronization completed\\n')"
   ]
  },
  {
   "cell_type": "markdown",
   "id": "05a1b88c-e49c-419f-adb9-945e9eb6f5f3",
   "metadata": {},
   "source": [
    "### Test the Knowledge Base\n",
    "Now the Knowledge Base is available we can test it out using the [**retrieve**](https://boto3.amazonaws.com/v1/documentation/api/latest/reference/services/bedrock-agent-runtime/client/retrieve.html) and [**retrieve_and_generate**](https://boto3.amazonaws.com/v1/documentation/api/latest/reference/services/bedrock-agent-runtime/client/retrieve_and_generate.html) functions. \n",
    "\n",
    "#### Testing Knowledge Base with Retrieve and Generate API\n",
    "\n",
    "Let's first test the knowledge base using the retrieve and generate API. With this API, Bedrock takes care of retrieving the necessary references from the knowledge base and generating the final answer using a Bedrock LLM."
   ]
  },
  {
   "cell_type": "code",
   "execution_count": 11,
   "id": "69d8093c",
   "metadata": {},
   "outputs": [
    {
     "data": {
      "text/plain": [
       "'arn:aws:bedrock:us-west-2:266735823905:inference-profile/us.anthropic.claude-3-5-haiku-20241022-v1:0'"
      ]
     },
     "execution_count": 11,
     "metadata": {},
     "output_type": "execute_result"
    }
   ],
   "source": [
    "f\"arn:aws:bedrock:{region}:{account_id}:inference-profile/{agent_foundation_model[0]}\""
   ]
  },
  {
   "cell_type": "markdown",
   "id": "cec0216a-8b07-4b9f-8760-a0d97c8ac27b",
   "metadata": {},
   "source": [
    "#### Please be aware, the sync operation may take a few minutes to complete. Before the first sync finishes, you will not get an answer when you call `retrieve_and_generate` or `retrieve`. If that is the case, wait a few minutes and try again."
   ]
  },
  {
   "cell_type": "code",
   "execution_count": 12,
   "id": "1c99ad63-2f09-46ff-9683-237fa7dffe4d",
   "metadata": {},
   "outputs": [
    {
     "name": "stdout",
     "output_type": "stream",
     "text": [
      "A 15-year and 30-year mortgage differ primarily in their loan term and monthly payment structure. The 15-year mortgage has higher monthly payments but costs significantly less in total interest over the life of the loan. In contrast, a 30-year mortgage offers lower monthly payments, making it more affordable for many homebuyers, but results in paying almost double the total interest compared to a 15-year mortgage. With a 15-year mortgage, borrowers typically pay a lower interest rate, sometimes up to a full percentage point less than a 30-year loan. The shorter term means that more of each payment goes toward the principal earlier, helping homeowners build equity faster. Banks also consider 15-year loans less risky, which contributes to the lower interest rates. The primary advantage of a 30-year mortgage is flexibility. Lower monthly payments allow borrowers to potentially buy a more expensive home, build savings, or allocate funds to other financial goals. However, this comes at the cost of paying significantly more interest over time. For instance, at a 4% interest rate, borrowers will pay about 2.2 times more interest with a 30-year loan compared to a 15-year loan. The best choice depends on individual financial circumstances. If you can afford higher monthly payments and want to minimize long-term interest costs, a 15-year mortgage might be ideal. If you need lower monthly payments or want more financial flexibility, a 30-year mortgage could be the better option. Some financial experts recommend a compromise: taking a 30-year mortgage but making extra principal payments to reduce the overall loan term.\n",
      "\n"
     ]
    }
   ],
   "source": [
    "response = bedrock_agent_runtime_client.retrieve_and_generate(\n",
    "    input={\n",
    "        \"text\": \"compare and contrast 15-year vs 30-year mortgage type\"\n",
    "    },\n",
    "    retrieveAndGenerateConfiguration={\n",
    "        \"type\": \"KNOWLEDGE_BASE\",\n",
    "        \"knowledgeBaseConfiguration\": {\n",
    "            'knowledgeBaseId': kb_id,\n",
    "            \"modelArn\": f\"arn:aws:bedrock:{region}:{account_id}:inference-profile/{agent_foundation_model[0]}\",\n",
    "            \"retrievalConfiguration\": {\n",
    "                \"vectorSearchConfiguration\": {\n",
    "                    \"numberOfResults\":5\n",
    "                } \n",
    "            }\n",
    "        }\n",
    "    }\n",
    ")\n",
    "\n",
    "print(response['output']['text'],end='\\n'*2)"
   ]
  },
  {
   "cell_type": "markdown",
   "id": "e22c732f-37ab-4bd7-92d3-34d01cdd848f",
   "metadata": {},
   "source": [
    "As you can see, with the retrieve and generate API we get the final response directly and we don't see the different sources used to generate this response. Let's now retrieve the source information from the knowledge base with the retrieve API.\n",
    "\n",
    "**Testing Knowledge Base with Retrieve API**\n",
    "\n",
    "If you need an extra layer of control, you can retrieve the chuncks that best match your query using the retrieve API. In this setup, we can configure the desired number of results and control the final answer with your own application logic. The API then provides you with the matching content, its S3 location, the similarity score and the chunk metadata."
   ]
  },
  {
   "cell_type": "code",
   "execution_count": null,
   "id": "4c913eb6-4d29-4479-8426-4e45f1660fb9",
   "metadata": {},
   "outputs": [],
   "source": [
    "response_ret = bedrock_agent_runtime_client.retrieve(\n",
    "    knowledgeBaseId=kb_id, \n",
    "    nextToken='string',\n",
    "    retrievalConfiguration={\n",
    "        \"vectorSearchConfiguration\": {\n",
    "            \"numberOfResults\":3,\n",
    "        } \n",
    "    },\n",
    "    retrievalQuery={\n",
    "        'text': 'What are the cons of a 15-year mortgage?'\n",
    "    }\n",
    ")\n",
    "\n",
    "def response_print(retrieve_resp):\n",
    "    #structure 'retrievalResults': list of contents. Each list has content, location, score, metadata\n",
    "    for num,chunk in enumerate(response_ret['retrievalResults'],1):\n",
    "        print('-----------------------------------------------------------------------------------------')\n",
    "        print(f'Chunk {num}: ',chunk['content']['text'],end='\\n'*2)\n",
    "        print(f'Chunk {num} Location: ',chunk['location'],end='\\n'*2)\n",
    "        print(f'Chunk {num} Score: ',chunk['score'],end='\\n'*2)\n",
    "        print(f'Chunk {num} Metadata: ',chunk['metadata'],end='\\n'*2)\n",
    "\n",
    "response_print(response_ret)"
   ]
  },
  {
   "cell_type": "markdown",
   "id": "cad86a15-cae7-4e7e-88ec-709dbdb22331",
   "metadata": {},
   "source": [
    "Store knowledge base ID and name for subsequent labs"
   ]
  },
  {
   "cell_type": "code",
   "execution_count": 13,
   "id": "22575d88",
   "metadata": {},
   "outputs": [
    {
     "data": {
      "text/plain": [
       "'QVBZHOLKNO'"
      ]
     },
     "execution_count": 13,
     "metadata": {},
     "output_type": "execute_result"
    }
   ],
   "source": [
    "kb_id"
   ]
  },
  {
   "cell_type": "markdown",
   "id": "602637e1",
   "metadata": {},
   "source": [
    "Store the knowledge base id **kb_id** in AWS Parameter Store. It will be accessed in the labs that you will be running."
   ]
  },
  {
   "cell_type": "code",
   "execution_count": 14,
   "id": "write-config",
   "metadata": {},
   "outputs": [
    {
     "name": "stdout",
     "output_type": "stream",
     "text": [
      "Stored QVBZHOLKNO in SSM: /app/mortgage_assistant/agentcore/kb_id\n"
     ]
    }
   ],
   "source": [
    "\n",
    "param_name = '/app/mortgage_assistant/agentcore/kb_id'\n",
    "\n",
    "ssm = boto3.client(\"ssm\")\n",
    "ssm.put_parameter(Name=param_name, Value=kb_id, Type=\"String\", Overwrite=True)\n",
    "print(f\"Stored {kb_id} in SSM: {param_name}\")"
   ]
  },
  {
   "cell_type": "markdown",
   "id": "9d2c515b",
   "metadata": {},
   "source": [
    "In this lab, we created a knowledge base that will be used by one of the agents to answers queries on mortgage "
   ]
  }
 ],
 "metadata": {
  "kernelspec": {
   "display_name": "workshop-agentcore",
   "language": "python",
   "name": "python3"
  },
  "language_info": {
   "codemirror_mode": {
    "name": "ipython",
    "version": 3
   },
   "file_extension": ".py",
   "mimetype": "text/x-python",
   "name": "python",
   "nbconvert_exporter": "python",
   "pygments_lexer": "ipython3",
   "version": "3.12.11"
  }
 },
 "nbformat": 4,
 "nbformat_minor": 5
}
