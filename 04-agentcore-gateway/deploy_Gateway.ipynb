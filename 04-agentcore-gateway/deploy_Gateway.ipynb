{
 "cells": [
  {
   "cell_type": "markdown",
   "id": "43f3cb3a",
   "metadata": {},
   "source": [
    "Deploying the agent to AgentCore Runtime"
   ]
  },
  {
   "cell_type": "code",
   "execution_count": null,
   "id": "a7382958",
   "metadata": {},
   "outputs": [],
   "source": [
    "from bedrock_agentcore_starter_toolkit import Runtime\n",
    "from boto3.session import Session\n",
    "import utils\n",
    "boto_session = Session()\n",
    "region = boto_session.region_name\n",
    "agentcore_gateway_iam_role = utils.create_agentcore_role(\"lambdagateway\")\n",
    "\n",
    "agentcore_runtime = Runtime()\n",
    "agent_name = \"mortgage_assistant\"\n",
    "response = agentcore_runtime.configure(\n",
    "    entrypoint=\"mortgage_agent_runtime_gw.py\",\n",
    "    execution_role=agentcore_gateway_iam_role['Role']['Arn'],\n",
    "    auto_create_ecr=True,\n",
    "    requirements_file=\"requirements.txt\",\n",
    "    region=region,\n",
    "    agent_name=agent_name\n",
    ")\n",
    "response"
   ]
  },
  {
   "cell_type": "markdown",
   "id": "2f83adc4",
   "metadata": {},
   "source": [
    "Launching agent to AgentCore Runtime"
   ]
  },
  {
   "cell_type": "code",
   "execution_count": null,
   "id": "589d3278",
   "metadata": {},
   "outputs": [],
   "source": [
    "launch_result = agentcore_runtime.launch(auto_update_on_conflict=True)"
   ]
  },
  {
   "cell_type": "markdown",
   "id": "3e2a8579",
   "metadata": {},
   "source": [
    "Launching agent to AgentCore Runtime"
   ]
  },
  {
   "cell_type": "code",
   "execution_count": null,
   "id": "8c7dcebb",
   "metadata": {},
   "outputs": [],
   "source": [
    "import time\n",
    "status_response = agentcore_runtime.status()\n",
    "status = status_response.endpoint['status']\n",
    "end_status = ['READY', 'CREATE_FAILED', 'DELETE_FAILED', 'UPDATE_FAILED']\n",
    "while status not in end_status:\n",
    "    time.sleep(10)\n",
    "    status_response = agentcore_runtime.status()\n",
    "    status = status_response.endpoint['status']\n",
    "    print(status)\n",
    "print(status)"
   ]
  },
  {
   "cell_type": "code",
   "execution_count": null,
   "id": "87d063a4",
   "metadata": {},
   "outputs": [],
   "source": [
    "import json\n",
    "try:\n",
    "    invoke_response = agentcore_runtime.invoke({\"prompt\": \"what is the credit score for customerid 1234\"})\n",
    "    response_bytes = invoke_response[\"response\"]\n",
    "    response_str = response_bytes[0].decode('utf-8')  # Convert bytes to string\n",
    "    response_json = json.loads(response_str)  # Parse JSON\n",
    "    text_value = response_json[\"result\"][\"content\"][0][\"text\"]  # Extract text\n",
    "    print(text_value)\n",
    "except Exception as e:\n",
    "     print(invoke_response[\"response\"])"
   ]
  }
 ],
 "metadata": {
  "kernelspec": {
   "display_name": "Python 3",
   "language": "python",
   "name": "python3"
  },
  "language_info": {
   "codemirror_mode": {
    "name": "ipython",
    "version": 3
   },
   "file_extension": ".py",
   "mimetype": "text/x-python",
   "name": "python",
   "nbconvert_exporter": "python",
   "pygments_lexer": "ipython3",
   "version": "3.10.8"
  }
 },
 "nbformat": 4,
 "nbformat_minor": 5
}
