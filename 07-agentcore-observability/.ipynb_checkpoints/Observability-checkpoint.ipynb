{
 "cells": [
  {
   "cell_type": "markdown",
   "id": "d1966b2e-d742-4cf7-9673-c3cd46376de6",
   "metadata": {},
   "source": [
    "## Overview\n",
    "\n",
    "In this tutorial we will showcase Observability through CloudWatch using AWS Opentelemetry Instrumentation and AgentCore Observability."
   ]
  },
  {
   "cell_type": "markdown",
   "id": "7c9876d1-3fb8-4a23-bf76-e9f74593463f",
   "metadata": {},
   "source": [
    "## Prerequisites\n",
    "\n",
    "* Amazon CloudWatch Access\n",
    "* Enable [transaction search](https://docs.aws.amazon.com/AmazonCloudWatch/latest/monitoring/Enable-TransactionSearch.html) on Amazon CloudWatch.\n",
    "\n",
    "### Setup via CloudWatch Console\n",
    "1. Open the [CloudWatch Console](https://console.aws.amazon.com/cloudwatch)\n",
    "2. Navigate to **Application Signals (APM)** → **Transaction search**\n",
    "3. Choose **Enable Transaction Search**\n",
    "4. Select checkbox to **ingest spans as structured logs**\n",
    "5. (Optional) Adjust **X-Ray trace indexing** percentage (default: 1%)\n",
    "6. Choose **Save**"
   ]
  },
  {
   "cell_type": "markdown",
   "id": "2da6bc75-7381-4687-962a-ee493deb1856",
   "metadata": {},
   "source": [
    "Please note that when using the `bedrock_agentcore_starter_toolkit` to configure your agent, it takes care of the opentelemetry instrumentation. \n",
    "\n",
    "When configuring for containerized environment (such as docker) add the following command, an example is given below:\n",
    "\n",
    "`CMD [\"opentelemetry-instrument\", \"python\", \"runtime_agent_main.py\"]`\n",
    "\n",
    "[AWS Distro for OpenTelemetry](https://aws-otel.github.io/docs/introduction) needs to be part of `requiremennts.txt`\n",
    "\n",
    "you can view the Dockerfile created by `bedrock_agentcore_starter_toolkit` here:"
   ]
  },
  {
   "cell_type": "markdown",
   "id": "b8921e75-f2c4-4e09-892b-c7761861dfd7",
   "metadata": {},
   "source": [
    "## Observability Concepts\n",
    "\n",
    "### Sessions\n",
    "- **Definition**: Complete interaction context between user and agent\n",
    "- **Scope**: Entire conversation lifecycle from initialization to termination\n",
    "- **Provides**: Context persistence, state management, conversation history\n",
    "- **Metrics**: Session count, duration, user engagement patterns\n",
    "\n",
    "### Traces\n",
    "- **Definition**: Detailed record of single request-response cycle\n",
    "- **Scope**: Complete execution path from agent invocation to response\n",
    "- **Provides**: Processing steps, tool invocations, resource utilization\n",
    "- **Metrics**: Request latency, processing time, error rates\n",
    "\n",
    "### Spans\n",
    "- **Definition**: Discrete, measurable unit of work within execution flow\n",
    "- **Scope**: Fine-grained operations with start/end timestamps\n",
    "- **Provides**: Operation details, parent-child relationships, status information\n",
    "- **Metrics**: Operation duration, success/failure rates, resource usage"
   ]
  },
  {
   "cell_type": "markdown",
   "id": "be7cd258-1fed-4901-a9ab-d82bcf489659",
   "metadata": {},
   "source": [
    "# To Test observability lets do a few tests\n",
    "\n",
    "TODO: \n",
    "* load agent\n",
    "* create session \n",
    "* do some invocations.."
   ]
  },
  {
   "cell_type": "markdown",
   "id": "ef0f2180-e7ba-4b03-9ca9-3479b625f531",
   "metadata": {},
   "source": [
    "## CloudWatch GenAI Observability Dashboard\n",
    "walkthrough of [CloudWatch GenAI Observability](https://console.aws.amazon.com/cloudwatch/home#gen-ai-observability)"
   ]
  },
  {
   "cell_type": "markdown",
   "id": "7945fa24-e2cb-42ff-beee-d6e185a311ea",
   "metadata": {},
   "source": [
    "TODO:\n",
    "    Show and tell \n",
    "* logs\n",
    "* data\n",
    "* etc "
   ]
  },
  {
   "cell_type": "markdown",
   "id": "004a7e53-4789-46ac-bdf9-6e9edccc8db2",
   "metadata": {},
   "source": [
    "You are able to view all your Agents that have observability in them and filter the data based on time frames, some examples are provided below :\n",
    "<div style=\"text-align:left\">\n",
    "    <img src=\"images/genai-observability.png\" width=\"50%\"/>\n",
    "</div>\n",
    "\n",
    "In the main dashboard you are able to view runtime metrics accross all agents as shown below: \n",
    "\n",
    "<div style=\"text-align:left\">\n",
    "    <img src=\"images/runtime-all-agent-metrics.png\" width=\"50%\"/>\n",
    "</div>\n",
    "\n",
    "Now, if you click on the agent you just deployed you will be taken to a dashboard for the runtime metrics specific to this agent, you can also filter the data by a custom time frame: \n",
    "\n",
    "![runtime-metrics-per-agent.png](attachment:runtime-metrics-per-agent.png)\n",
    "\n",
    "In the Sessions View tab, you can navigate to all the sessions associated with this agent: \n",
    "\n",
    "![Agent-sessions-view.png](attachment:Agent-sessions-view.png)\n",
    "\n",
    "In the Trace View tab, you can look into the traces and span information for this agent on runtime. \n",
    "\n",
    "![Agentcore-trace.png](attachment:Agentcore-trace.png)\n",
    "\n",
    "\n",
    "Please click through the various features of GenAI observability dashboard to get more detailed information on traces."
   ]
  },
  {
   "cell_type": "markdown",
   "id": "98665cd6-868f-4375-bbfc-1d27fb229aff",
   "metadata": {},
   "source": [
    "<div style=\"text-align:left\">\n",
    "    <img src=\"images/08-agentcore-trace-view.png\" width=\"50%\"/>\n",
    "</div>"
   ]
  },
  {
   "cell_type": "code",
   "execution_count": null,
   "id": "f86c3ea9-62ef-46b2-9db8-270fb8e4dfc2",
   "metadata": {},
   "outputs": [],
   "source": []
  }
 ],
 "metadata": {
  "kernelspec": {
   "display_name": "myproject_kernel",
   "language": "python",
   "name": "myproject_kernel"
  },
  "language_info": {
   "codemirror_mode": {
    "name": "ipython",
    "version": 3
   },
   "file_extension": ".py",
   "mimetype": "text/x-python",
   "name": "python",
   "nbconvert_exporter": "python",
   "pygments_lexer": "ipython3",
   "version": "3.12.7"
  }
 },
 "nbformat": 4,
 "nbformat_minor": 5
}
