{
 "cells": [
  {
   "cell_type": "markdown",
   "id": "d1966b2e-d742-4cf7-9673-c3cd46376de6",
   "metadata": {},
   "source": [
    "## Overview\n",
    "\n",
    "In this tutorial we will showcase Observability through CloudWatch using AWS Opentelemetry Instrumentation and AgentCore Observability."
   ]
  },
  {
   "cell_type": "markdown",
   "id": "1ef8d1f3-fa78-4d87-bad5-a7b80b1708bd",
   "metadata": {},
   "source": [
    "Amazon Bedrock AgentCore Observability helps you trace, debug, and monitor agent performance in production environments.\n",
    "\n",
    "AgentCore Observability provides:\n",
    "\n",
    "* Detailed visualizations of each step in the agent workflow\n",
    "* Real-time visibility into operational performance through CloudWatch dashboards\n",
    "* Telemetry for key metrics such as session count, latency, duration, token usage, and error rates\n",
    "* Rich metadata tagging and filtering for issue investigation\n",
    "* Standardized OpenTelemetry (OTEL)-compatible format for easy integration with existing monitoring stacks\n",
    "\n",
    "\n",
    "<div style=\"text-align:left\">\n",
    "    <img src=\"images/00-architecture.jpg\" width=\"75%\"/>\n",
    "</div>"
   ]
  },
  {
   "cell_type": "markdown",
   "id": "358ce581-003e-4936-8d24-c13a5cb0d6be",
   "metadata": {},
   "source": [
    "## Observability Concepts\n",
    "\n",
    "<div style=\"display: flex; width: 100%;\">\n",
    "    <div style=\"flex: 50%; padding-right: 20px;\">\n",
    "        \n",
    "#### Sessions\n",
    "- **Definition**: Complete **interaction context** between user and agent\n",
    "- **Scope**: Entire conversation lifecycle from initialization to termination\n",
    "- **Provides**: Context persistence, state management, conversation history\n",
    "- **Metrics**: Session count, duration, user engagement patterns\n",
    "#### Traces\n",
    "- **Definition**: Detailed record of **single request-response** cycle\n",
    "- **Scope**: Complete execution path from agent invocation to response\n",
    "- **Provides**: Processing steps, tool invocations, resource utilization\n",
    "- **Metrics**: Request latency, processing time, error rates\n",
    "#### Spans\n",
    "- **Definition**: Discrete, measurable **unit of work** within execution flow\n",
    "- **Scope**: Fine-grained operations with start/end timestamps\n",
    "- **Provides**: Operation details, parent-child relationships, status information\n",
    "- **Metrics**: Operation duration, success/failure rates, resource usage\n",
    "</div>\n",
    "<div style=\"flex: 50%; padding-left: 20px;\">\n",
    "    <img src=\"images/01-observability-concept-relationship.jpg\" width=\"70%\"/>\n",
    "</div>\n"
   ]
  },
  {
   "cell_type": "markdown",
   "id": "8d94637a-8bf7-4dae-9c07-4eb85a36fdc4",
   "metadata": {},
   "source": [
    "## Prerequisites\n",
    "\n",
    "AgentCore Observability for Runtime works through the integration of OpenTelemetry instrumentation with your hosted agents. To enable it, ensure the following:\n",
    "\n",
    "1. Instrument your code using the AWS Distro for Open Telemetry (ADOT) SDK (`aws-opentelemetry-distro`). Ensure it is included in your Python dependencies.\n",
    "   Please note that when using the `bedrock_agentcore_starter_toolkit` to configure your agent, it takes care of the opentelemetry instrumentation for you. More details are available [here](https://docs.aws.amazon.com/bedrock-agentcore/latest/devguide/observability-configure.html#observability-configure-custom).\n",
    "   \n",
    "2. [CloudWatch Transaction Search](https://docs.aws.amazon.com/AmazonCloudWatch/latest/monitoring/Enable-TransactionSearch.html) is enabled. This is a one-time setup to turn on Amazon CloudWatch Transaction Search.\n",
    "Setup via CloudWatch Console\n",
    "    1. Open the [CloudWatch Console](https://console.aws.amazon.com/cloudwatch)\n",
    "    2. Navigate to **Application Signals (APM)** → **Transaction search**\n",
    "    3. Choose **Enable Transaction Search**\n",
    "    4. Select checkbox to **ingest spans as structured logs**\n",
    "    5. (Optional) Adjust **X-Ray trace indexing** percentage (default: 1%)\n",
    "    6. Choose **Save**"
   ]
  },
  {
   "cell_type": "markdown",
   "id": "be7cd258-1fed-4901-a9ab-d82bcf489659",
   "metadata": {},
   "source": [
    "## lets do a test and review observability"
   ]
  },
  {
   "cell_type": "code",
   "execution_count": 115,
   "id": "2927b1ab-2696-4de3-8aae-cf58855609ce",
   "metadata": {},
   "outputs": [],
   "source": [
    "from boto3.session import Session\n",
    "boto_session = Session()\n",
    "region = boto_session.region_name"
   ]
  },
  {
   "cell_type": "code",
   "execution_count": 110,
   "id": "3ef1f732-7ce4-40b9-815a-7f04d8918169",
   "metadata": {},
   "outputs": [],
   "source": [
    "def print_response(boto3_response):\n",
    "    # Print the basic response details\n",
    "    print(\"Status Code:\", boto3_response['statusCode'])\n",
    "    print(\"Content Type:\", boto3_response['contentType'])\n",
    "    # Handle the StreamingBody response\n",
    "    if 'response' in boto3_response:\n",
    "        try:\n",
    "            # Read and decode the streaming response\n",
    "            response_body = boto3_response['response'].read().decode('utf-8')\n",
    "            print(\"\\nResponse Body:\")\n",
    "            print(response_body)\n",
    "        except Exception as e:\n",
    "            print(f\"Error reading response body: {str(e)}\")"
   ]
  },
  {
   "cell_type": "code",
   "execution_count": null,
   "id": "c47a4f84",
   "metadata": {},
   "outputs": [],
   "source": [
    "#list the AgentCore runtimes and copy the agentRuntimeArn\n",
    "!aws bedrock-agentcore-control list-agent-runtimes"
   ]
  },
  {
   "cell_type": "code",
   "execution_count": null,
   "id": "454e2277-9a5d-49c9-aad3-45ddbb2615a0",
   "metadata": {},
   "outputs": [],
   "source": [
    "from IPython.display import Markdown, display\n",
    "import json\n",
    "import boto3\n",
    "agentcore_client = boto3.client(\n",
    "    'bedrock-agentcore',\n",
    "    region_name=region\n",
    ")\n",
    "\n",
    "agent_arn = \"<agentRuntimeArn>\"\n",
    "\n",
    "user_id = \"700001\"\n",
    "\n",
    "session_id = f\"test_observability_session_{user_id}\"\n",
    "\n",
    "\n",
    "prompt = f\"I am customer {user_id}, what is the status of my application?\"\n",
    "\n",
    "payload=json.dumps({\"prompt\": prompt,\n",
    "                   \"user_id\": user_id})\n",
    "\n",
    "boto3_response = agentcore_client.invoke_agent_runtime(\n",
    "    agentRuntimeArn=agent_arn,\n",
    "    qualifier=\"DEFAULT\",\n",
    "    payload=payload,\n",
    "    runtimeSessionId=session_id\n",
    ")"
   ]
  },
  {
   "cell_type": "code",
   "execution_count": 111,
   "id": "4507ae30-26bf-4fe6-b1ed-b526ff6528cd",
   "metadata": {},
   "outputs": [
    {
     "name": "stdout",
     "output_type": "stream",
     "text": [
      "Status Code: 200\n",
      "Content Type: application/json\n",
      "\n",
      "Response Body:\n",
      "{\"result\": {\"role\": \"assistant\", \"content\": [{\"text\": \"Thank you for providing your customer ID. I've checked the status of your application (ID: 700001), and I can see that your application is almost complete, but there is one document still needed:\\n\\n**Current Application Status:**\\n- ✅ Proof of income - COMPLETED\\n- ❌ Employment information - MISSING\\n- ✅ Proof of assets - COMPLETED\\n- ✅ Credit information - COMPLETED\\n\\nTo move your application forward in the review process, you'll need to submit your employment information document. Once that's completed, your application can proceed to the next stage of review.\\n\\nWould you like information on how to submit this missing document, or do you have any other questions about your application?\"}]}}\n"
     ]
    }
   ],
   "source": [
    "print_response(boto3_response)"
   ]
  },
  {
   "cell_type": "markdown",
   "id": "d2af9b3d-ecf7-47b1-a33d-2040954dc728",
   "metadata": {},
   "source": []
  },
  {
   "cell_type": "markdown",
   "id": "3164c3ef-bec9-4452-a809-e349f1ab5a48",
   "metadata": {},
   "source": [
    "### GenAI Observability for visualization\n",
    "\n",
    "The [CloudWatch GenAI Observability](https://docs.aws.amazon.com/AmazonCloudWatch/latest/monitoring/GenAI-observability.html) provides Bedrock AgentCore dashboard with Agent, Sessions View & Traces Views to understand the performance and execution flow of Runtime-hosted agents. You can access them by selecting GenAI Observability (Preview) in the CloudWatch console.\n",
    "\n",
    "CloudWatch GenAI Observability provides two pre-built dashboards:\n",
    "- Model Invocations – Detailed metrics on model usage, token consumption, and costs\n",
    "- Amazon Bedrock AgentCore agents – Performance and decision metrics for the Amazon Bedrock agents\n",
    "\n",
    "Click [here](https://us-west-2.console.aws.amazon.com/cloudwatch/home?region=us-west-2#/gen-ai-observability/agent-core?start=-3600000) to vavigate to the Bedrock AgentCore dashboard.You can analyze various Agents and their associated interactions under Agent view, Sessions view, and Traces view.\n",
    "\n",
    "Click on **Sessions view** and you will be able to see the session ID that we just tested with above.\n",
    "\n",
    "\n",
    "<div style=\"text-align:left\">\n",
    "    <img src=\"images/02-Sessions-view.jpg\" width=\"50%\"/>\n",
    "</div>"
   ]
  },
  {
   "cell_type": "markdown",
   "id": "e7bb3575-5615-4c0d-b549-472079d8ab34",
   "metadata": {},
   "source": [
    "Select session \"test_observability_session_700001\" to see a list of traces for this session. In our test there is only trace.\n",
    "\n",
    "The trace provides end-to-end visibility into agent execution paths including LLM calls and tool usage. Select \"Trajectory\" to review the interconnected relationship of the spans and subsequent calls from these spans. For illustration, the screenshot below highlights execution of one of the tools available to the agent and its execution time.\n",
    "\n",
    "<div style=\"text-align:left\">\n",
    "    <img src=\"images/03-trace-view.jpg\" width=\"70%\"/>\n",
    "</div>\n"
   ]
  },
  {
   "cell_type": "markdown",
   "id": "a23ebbc3-dad8-4686-aeec-f5da91a4c823",
   "metadata": {},
   "source": [
    "### View Logs in CloudWatch\n",
    "\n",
    "1. Open the [CloudWatch console](https://console.aws.amazon.com/cloudwatch/)\n",
    "2. In the left navigation pane, expand **Logs** and select **Log groups**\n",
    "3. Search for your agent's log group:\n",
    "   - Standard logs (stdout/stderr): `/aws/bedrock-agentcore/runtimes/<agent_id>-<endpoint_name>/[runtime-logs] <UUID>`\n",
    "   - OTEL structured logs: `/aws/bedrock-agentcore/runtimes/<agent_id>-<endpoint_name>/runtime-logs`"
   ]
  },
  {
   "cell_type": "markdown",
   "id": "47bd7755-baa9-49f6-92a1-c206090479b8",
   "metadata": {},
   "source": [
    "### View Metrics\n",
    "\n",
    "1. Open the [CloudWatch console](https://console.aws.amazon.com/cloudwatch/)\n",
    "2. Select **Metrics** from the left navigation\n",
    "3. Browse to the `bedrock-agentcore` namespace\n",
    "4. Explore the available metrics\n",
    "\n",
    "See [here](https://docs.aws.amazon.com/bedrock-agentcore/latest/devguide/observability-service-provided.html) for more details on available metrics."
   ]
  },
  {
   "cell_type": "code",
   "execution_count": 123,
   "id": "f935abe9-fd03-452d-8a55-d2321de09c31",
   "metadata": {},
   "outputs": [],
   "source": [
    "#optional"
   ]
  },
  {
   "cell_type": "code",
   "execution_count": 113,
   "id": "5543c059-988b-4d49-98c5-a437011e69da",
   "metadata": {},
   "outputs": [],
   "source": [
    "# Check what's stored in memory\n",
    "\n",
    "from bedrock_agentcore.memory import MemoryClient\n",
    "\n",
    "client = MemoryClient(region_name=region)\n",
    "\n",
    "\n",
    "def list_last_k_turns(memory_id, actor_id, session_id, k):\n",
    "    print(\"=== Memory Contents ===\")\n",
    "    print(f\"actor_id: {actor_id}\")\n",
    "    print(f\"session_id: {session_id}\")\n",
    "    \n",
    "    recent_turns = client.get_last_k_turns(\n",
    "        memory_id=memory_id,\n",
    "        actor_id=actor_id,\n",
    "        session_id=session_id,\n",
    "        k=k # Adjust k to see more or fewer turns\n",
    "        # branch_name=\"main\"\n",
    "    )\n",
    "    \n",
    "    for i, turn in enumerate(recent_turns, 1):\n",
    "        print(f\"Turn {i}:\")\n",
    "        for message in turn:\n",
    "            role = message['role']\n",
    "            content = message['content']['text'][:300] + \"...\" if len(message['content']['text']) > 300 else message['content']['text']\n",
    "            print(f\"  {role}: {content}\")\n",
    "        print()"
   ]
  },
  {
   "cell_type": "code",
   "execution_count": 121,
   "id": "7111f60a-9dd0-42eb-b387-99b6ccd22eb3",
   "metadata": {},
   "outputs": [],
   "source": [
    "memory_id = \"mortgage_assistant_20250816164255-ImwbeA6D2i\""
   ]
  },
  {
   "cell_type": "code",
   "execution_count": 122,
   "id": "0a219f11-c2d1-44bc-a76b-5f5d571c58b6",
   "metadata": {},
   "outputs": [
    {
     "name": "stdout",
     "output_type": "stream",
     "text": [
      "=== Memory Contents ===\n",
      "actor_id: 700001\n",
      "session_id: test_observability_session_700001\n",
      "Turn 1:\n",
      "  ASSISTANT: Thank you for providing your customer ID. I've checked the status of your application (ID: 700001), and I can see that your application is almost complete, but there is one document still needed:\n",
      "\n",
      "**Current Application Status:**\n",
      "- ✅ Proof of income - COMPLETED\n",
      "- ❌ Employment information - MISSING\n",
      "- ...\n",
      "  ASSISTANT: I'd be happy to check the status of your loan application. To provide you with accurate information, I'll need to look up your application details using your customer ID.\n",
      "\n",
      "Turn 2:\n",
      "  USER: I am customer 700001, what is the status of my application?\n",
      "\n"
     ]
    }
   ],
   "source": [
    "list_last_k_turns(memory_id, f\"{user_id}\", session_id, 100)"
   ]
  },
  {
   "cell_type": "code",
   "execution_count": null,
   "id": "14435cd6-467e-46b1-a3cb-629c5caceaac",
   "metadata": {},
   "outputs": [],
   "source": []
  },
  {
   "cell_type": "code",
   "execution_count": null,
   "id": "5d2487c0-06e3-4cd7-94d1-34b9954ed50e",
   "metadata": {},
   "outputs": [],
   "source": []
  },
  {
   "cell_type": "code",
   "execution_count": null,
   "id": "260788c4-b268-4b4c-aad0-427ffc6d405f",
   "metadata": {},
   "outputs": [],
   "source": []
  },
  {
   "cell_type": "code",
   "execution_count": null,
   "id": "53a6f7c1-11d3-4322-837b-264958537e42",
   "metadata": {},
   "outputs": [],
   "source": []
  }
 ],
 "metadata": {
  "kernelspec": {
   "display_name": "workshop-env",
   "language": "python",
   "name": "python3"
  },
  "language_info": {
   "codemirror_mode": {
    "name": "ipython",
    "version": 3
   },
   "file_extension": ".py",
   "mimetype": "text/x-python",
   "name": "python",
   "nbconvert_exporter": "python",
   "pygments_lexer": "ipython3",
   "version": "3.12.7"
  }
 },
 "nbformat": 4,
 "nbformat_minor": 5
}
