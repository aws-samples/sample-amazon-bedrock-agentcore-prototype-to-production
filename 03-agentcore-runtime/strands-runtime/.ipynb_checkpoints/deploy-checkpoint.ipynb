{
 "cells": [
  {
   "cell_type": "markdown",
   "id": "43f3cb3a",
   "metadata": {},
   "source": [
    "Deploying the agent to AgentCore Runtime"
   ]
  },
  {
   "cell_type": "code",
   "execution_count": 10,
   "id": "a7382958",
   "metadata": {},
   "outputs": [
    {
     "name": "stderr",
     "output_type": "stream",
     "text": [
      "Entrypoint parsed: file=/Users/gzali/code/workshop-agentcore/agentcore-runtime/strands-runtime/mortgage_agent_runtime.py, bedrock_agentcore_name=mortgage_agent_runtime\n",
      "Configuring BedrockAgentCore agent: mortage_assistant1\n",
      "Generated Dockerfile: /Users/gzali/code/workshop-agentcore/agentcore-runtime/strands-runtime/Dockerfile\n",
      "Generated .dockerignore: /Users/gzali/code/workshop-agentcore/agentcore-runtime/strands-runtime/.dockerignore\n",
      "Changing default agent from 'mortage_assistant' to 'mortage_assistant1'\n",
      "Bedrock AgentCore configured: /Users/gzali/code/workshop-agentcore/agentcore-runtime/strands-runtime/.bedrock_agentcore.yaml\n"
     ]
    },
    {
     "data": {
      "text/plain": [
       "ConfigureResult(config_path=PosixPath('/Users/gzali/code/workshop-agentcore/agentcore-runtime/strands-runtime/.bedrock_agentcore.yaml'), dockerfile_path=PosixPath('/Users/gzali/code/workshop-agentcore/agentcore-runtime/strands-runtime/Dockerfile'), dockerignore_path=PosixPath('/Users/gzali/code/workshop-agentcore/agentcore-runtime/strands-runtime/.dockerignore'), runtime='Docker', region='us-east-1', account_id='768823319428', execution_role=None, ecr_repository=None, auto_create_ecr=True)"
      ]
     },
     "execution_count": 10,
     "metadata": {},
     "output_type": "execute_result"
    }
   ],
   "source": [
    "from bedrock_agentcore_starter_toolkit import Runtime\n",
    "from boto3.session import Session\n",
    "boto_session = Session()\n",
    "region = boto_session.region_name\n",
    "\n",
    "agentcore_runtime = Runtime()\n",
    "agent_name = \"mortage_assistant1\"\n",
    "response = agentcore_runtime.configure(\n",
    "    entrypoint=\"mortgage_agent_runtime.py\",\n",
    "    auto_create_execution_role=True,\n",
    "    auto_create_ecr=True,\n",
    "    requirements_file=\"requirements.txt\",\n",
    "    region=region,\n",
    "    agent_name=agent_name\n",
    ")\n",
    "response"
   ]
  },
  {
   "cell_type": "markdown",
   "id": "3e2a8579",
   "metadata": {},
   "source": [
    "Launching agent to AgentCore Runtime"
   ]
  },
  {
   "cell_type": "code",
   "execution_count": 11,
   "id": "d3f0111a",
   "metadata": {},
   "outputs": [
    {
     "name": "stderr",
     "output_type": "stream",
     "text": [
      "🚀 CodeBuild mode: building in cloud (RECOMMENDED - DEFAULT)\n",
      "   • Build ARM64 containers in the cloud with CodeBuild\n",
      "   • No local Docker required\n",
      "💡 Available deployment modes:\n",
      "   • runtime.launch()                           → CodeBuild (current)\n",
      "   • runtime.launch(local=True)                 → Local development\n",
      "   • runtime.launch(local_build=True)           → Local build + cloud deploy (NEW)\n",
      "Starting CodeBuild ARM64 deployment for agent 'mortage_assistant1' to account 768823319428 (us-east-1)\n",
      "Starting CodeBuild ARM64 deployment for agent 'mortage_assistant1' to account 768823319428 (us-east-1)\n",
      "Setting up AWS resources (ECR repository, execution roles)...\n",
      "Getting or creating ECR repository for agent: mortage_assistant1\n"
     ]
    },
    {
     "name": "stdout",
     "output_type": "stream",
     "text": [
      "Repository doesn't exist, creating new ECR repository: bedrock-agentcore-mortage_assistant1\n"
     ]
    },
    {
     "name": "stderr",
     "output_type": "stream",
     "text": [
      "✅ ECR repository available: 768823319428.dkr.ecr.us-east-1.amazonaws.com/bedrock-agentcore-mortage_assistant1\n",
      "Getting or creating execution role for agent: mortage_assistant1\n",
      "Using AWS region: us-east-1, account ID: 768823319428\n",
      "Role name: AmazonBedrockAgentCoreSDKRuntime-us-east-1-ca334ddec0\n",
      "Role doesn't exist, creating new execution role: AmazonBedrockAgentCoreSDKRuntime-us-east-1-ca334ddec0\n",
      "Starting execution role creation process for agent: mortage_assistant1\n",
      "✓ Role creating: AmazonBedrockAgentCoreSDKRuntime-us-east-1-ca334ddec0\n",
      "Creating IAM role: AmazonBedrockAgentCoreSDKRuntime-us-east-1-ca334ddec0\n",
      "✓ Role created: arn:aws:iam::768823319428:role/AmazonBedrockAgentCoreSDKRuntime-us-east-1-ca334ddec0\n",
      "✓ Execution policy attached: BedrockAgentCoreRuntimeExecutionPolicy-mortage_assistant1\n",
      "Role creation complete and ready for use with Bedrock AgentCore\n",
      "✅ Execution role available: arn:aws:iam::768823319428:role/AmazonBedrockAgentCoreSDKRuntime-us-east-1-ca334ddec0\n",
      "Preparing CodeBuild project and uploading source...\n",
      "Getting or creating CodeBuild execution role for agent: mortage_assistant1\n",
      "Role name: AmazonBedrockAgentCoreSDKCodeBuild-us-east-1-ca334ddec0\n",
      "CodeBuild role doesn't exist, creating new role: AmazonBedrockAgentCoreSDKCodeBuild-us-east-1-ca334ddec0\n",
      "Creating IAM role: AmazonBedrockAgentCoreSDKCodeBuild-us-east-1-ca334ddec0\n",
      "✓ Role created: arn:aws:iam::768823319428:role/AmazonBedrockAgentCoreSDKCodeBuild-us-east-1-ca334ddec0\n",
      "Attaching inline policy: CodeBuildExecutionPolicy to role: AmazonBedrockAgentCoreSDKCodeBuild-us-east-1-ca334ddec0\n",
      "✓ Policy attached: CodeBuildExecutionPolicy\n",
      "Waiting for IAM role propagation...\n",
      "CodeBuild execution role creation complete: arn:aws:iam::768823319428:role/AmazonBedrockAgentCoreSDKCodeBuild-us-east-1-ca334ddec0\n",
      "Using .dockerignore with 44 patterns\n",
      "Uploaded source to S3: mortage_assistant1/20250812-055536.zip\n",
      "Created CodeBuild project: bedrock-agentcore-mortage_assistant1-builder\n",
      "Starting CodeBuild build (this may take several minutes)...\n",
      "Starting CodeBuild monitoring...\n",
      "🔄 QUEUED started (total: 0s)\n",
      "✅ QUEUED completed in 5.2s\n",
      "🔄 PROVISIONING started (total: 6s)\n",
      "✅ PROVISIONING completed in 11.0s\n",
      "🔄 PRE_BUILD started (total: 16s)\n",
      "✅ PRE_BUILD completed in 5.2s\n",
      "🔄 BUILD started (total: 22s)\n",
      "✅ BUILD completed in 78.7s\n",
      "🔄 POST_BUILD started (total: 100s)\n",
      "✅ POST_BUILD completed in 21.0s\n",
      "🔄 FINALIZING started (total: 121s)\n",
      "✅ FINALIZING completed in 5.2s\n",
      "🔄 COMPLETED started (total: 127s)\n",
      "✅ COMPLETED completed in 0.0s\n",
      "🎉 CodeBuild completed successfully in 2m 6s\n",
      "CodeBuild completed successfully\n",
      "✅ CodeBuild project configuration saved\n",
      "Deploying to Bedrock AgentCore...\n",
      "✅ Agent created/updated: arn:aws:bedrock-agentcore:us-east-1:768823319428:runtime/mortage_assistant1-aKSAZo2j05\n",
      "Polling for endpoint to be ready...\n",
      "Agent endpoint: arn:aws:bedrock-agentcore:us-east-1:768823319428:runtime/mortage_assistant1-aKSAZo2j05/runtime-endpoint/DEFAULT\n",
      "Deployment completed successfully - Agent: arn:aws:bedrock-agentcore:us-east-1:768823319428:runtime/mortage_assistant1-aKSAZo2j05\n",
      "Built with CodeBuild: bedrock-agentcore-mortage_assistant1-builder:d9c2ee34-16fe-472d-9ec2-24b1097cea9e\n",
      "Deployed to cloud: arn:aws:bedrock-agentcore:us-east-1:768823319428:runtime/mortage_assistant1-aKSAZo2j05\n",
      "ECR image: 768823319428.dkr.ecr.us-east-1.amazonaws.com/bedrock-agentcore-mortage_assistant1\n",
      "🔍 Agent logs available at:\n",
      "   /aws/bedrock-agentcore/runtimes/mortage_assistant1-aKSAZo2j05-DEFAULT\n",
      "   /aws/bedrock-agentcore/runtimes/mortage_assistant1-aKSAZo2j05-DEFAULT/runtime-logs\n",
      "💡 Tail logs with: aws logs tail /aws/bedrock-agentcore/runtimes/mortage_assistant1-aKSAZo2j05-DEFAULT --follow\n",
      "💡 Or view recent logs: aws logs tail /aws/bedrock-agentcore/runtimes/mortage_assistant1-aKSAZo2j05-DEFAULT --since 1h\n"
     ]
    }
   ],
   "source": [
    "launch_result = agentcore_runtime.launch()"
   ]
  },
  {
   "cell_type": "code",
   "execution_count": 12,
   "id": "8c7dcebb",
   "metadata": {},
   "outputs": [
    {
     "name": "stderr",
     "output_type": "stream",
     "text": [
      "Retrieved Bedrock AgentCore status for: mortage_assistant1\n"
     ]
    },
    {
     "name": "stdout",
     "output_type": "stream",
     "text": [
      "READY\n"
     ]
    }
   ],
   "source": [
    "import time\n",
    "status_response = agentcore_runtime.status()\n",
    "status = status_response.endpoint['status']\n",
    "end_status = ['READY', 'CREATE_FAILED', 'DELETE_FAILED', 'UPDATE_FAILED']\n",
    "while status not in end_status:\n",
    "    time.sleep(10)\n",
    "    status_response = agentcore_runtime.status()\n",
    "    status = status_response.endpoint['status']\n",
    "    print(status)\n",
    "print(status)"
   ]
  },
  {
   "cell_type": "code",
   "execution_count": 24,
   "id": "87d063a4",
   "metadata": {},
   "outputs": [
    {
     "name": "stderr",
     "output_type": "stream",
     "text": [
      "Invoking BedrockAgentCore agent 'mortage_assistant1' via cloud endpoint\n"
     ]
    },
    {
     "name": "stdout",
     "output_type": "stream",
     "text": [
      "[b'{\"result\": {\"role\": \"assistant\", \"content\": [{\"text\": \"I apologize, but I am an AI assistant specifically designed to help with mortgage-related questions. I cannot provide weather information. My primary functions include:\\\\n\\\\n- Answering general mortgage questions\\\\n- Assisting with existing mortgage inquiries\\\\n- Helping with new loan applications\\\\n- Providing mortgage calculations and financial advice\\\\n\\\\nIf you have any questions about mortgages, loans, home financing, or related financial topics, I\\'m here to help. Would you like to discuss something in the mortgage domain?\"}]}}']\n"
     ]
    }
   ],
   "source": [
    "invoke_response = agentcore_runtime.invoke({\"prompt\": \"How is the weather now?\"})\n",
    "print(invoke_response[\"response\"])"
   ]
  },
  {
   "cell_type": "code",
   "execution_count": null,
   "id": "422b47b6-85ab-439b-a0a5-52e553d16282",
   "metadata": {},
   "outputs": [],
   "source": []
  },
  {
   "cell_type": "code",
   "execution_count": 25,
   "id": "2881eed3-47ee-4ba5-9812-c8c67235c9a8",
   "metadata": {},
   "outputs": [
    {
     "name": "stdout",
     "output_type": "stream",
     "text": [
      "{\n",
      "    \"agentRuntimes\": [\n",
      "        {\n",
      "            \"agentRuntimeArn\": \"arn:aws:bedrock-agentcore:us-east-1:768823319428:runtime/mortage_assistant1-aKSAZo2j05\",\n",
      "            \"agentRuntimeId\": \"mortage_assistant1-aKSAZo2j05\",\n",
      "            \"agentRuntimeVersion\": \"1\",\n",
      "            \"agentRuntimeName\": \"mortage_assistant1\",\n",
      "            \"lastUpdatedAt\": \"2025-08-12T05:57:47.210727829Z\",\n",
      "            \"status\": \"READY\"\n",
      "        },\n",
      "        {\n",
      "            \"agentRuntimeArn\": \"arn:aws:bedrock-agentcore:us-east-1:768823319428:runtime/strands_claude_getting_started-snlRiQ2Unl\",\n",
      "            \"agentRuntimeId\": \"strands_claude_getting_started-snlRiQ2Unl\",\n",
      "            \"agentRuntimeVersion\": \"1\",\n",
      "            \"agentRuntimeName\": \"strands_claude_getting_started\",\n",
      "            \"lastUpdatedAt\": \"2025-08-09T03:35:02.916020610Z\",\n",
      "            \"status\": \"READY\"\n",
      "        }\n",
      "    ]\n",
      "}\n"
     ]
    }
   ],
   "source": [
    "!aws bedrock-agentcore-control list-agent-runtimes"
   ]
  },
  {
   "cell_type": "code",
   "execution_count": null,
   "id": "f208c3c3-b4e4-4e6c-8ee4-3c6e61cac76b",
   "metadata": {},
   "outputs": [],
   "source": []
  }
 ],
 "metadata": {
  "kernelspec": {
   "display_name": "Python 3 (ipykernel)",
   "language": "python",
   "name": "python3"
  },
  "language_info": {
   "codemirror_mode": {
    "name": "ipython",
    "version": 3
   },
   "file_extension": ".py",
   "mimetype": "text/x-python",
   "name": "python",
   "nbconvert_exporter": "python",
   "pygments_lexer": "ipython3",
   "version": "3.12.7"
  }
 },
 "nbformat": 4,
 "nbformat_minor": 5
}
