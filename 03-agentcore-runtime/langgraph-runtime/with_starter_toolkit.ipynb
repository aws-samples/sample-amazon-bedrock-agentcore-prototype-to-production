{
 "cells": [
  {
   "cell_type": "markdown",
   "metadata": {},
   "source": [
    "## LangGraph Multi-Agent Mortgage Assistant with Bedrock AgentCore"
   ]
  },
  {
   "cell_type": "code",
   "execution_count": null,
   "metadata": {},
   "outputs": [],
   "source": [
    "%pip install -r requirements.txt -q --force-reinstall"
   ]
  },
  {
   "cell_type": "markdown",
   "metadata": {},
   "source": [
    "This notebook demonstrates how to deploy a sophisticated multi-agent mortgage assistant using LangGraph and Amazon Bedrock AgentCore.\n",
    "\n",
    "### Prerequisites\n",
    "- Knowledge base created (run `01_create_knowledgebase.ipynb` first)\n",
    "- Python 3.8+ environment"
   ]
  },
  {
   "cell_type": "markdown",
   "metadata": {},
   "source": [
    "### Setup and Configuration\n",
    "\n",
    "We'll start by setting up the Bedrock AgentCore starter toolkit\n",
    "\n",
    "The [Bedrock AgentCore Starter Toolkit](https://github.com/aws/bedrock-agentcore-starter-toolkit/) is a lightweight Python wrapper that streamlines deploying and managing AI agents on AWS Bedrock AgentCore. The toolkit acts as a thin layer over AWS Bedrock AgentCore's control and data plane APIs, automating infrastructure provisioning (ECR repositories, IAM roles, CodeBuild projects) and managing agent state through a .bedrock_agentcore.yaml configuration file. It provides both CLI and notebook interfaces that orchestrate the complete agent lifecycle - from initial configuration and containerization to cloud deployment and invocation. It supports multiple deployment modes (local development, cloud deployment with CodeBuild for ARM64 builds) and handles authentication patterns (JWT, OAuth, IAM) and protocol interfaces (HTTP, Model Context Protocol), enabling developers to focus on building agents rather than wrestling with AWS service integration details.\n",
    "\n",
    "**Note**: If running locally, uncomment and update the `AWS_PROFILE` line below with your AWS profile name."
   ]
  },
  {
   "cell_type": "code",
   "execution_count": null,
   "metadata": {},
   "outputs": [],
   "source": [
    "import os\n",
    "import boto3\n",
    "import json\n",
    "import random\n",
    "import string\n",
    "from bedrock_agentcore_starter_toolkit import Runtime\n",
    "\n",
    "# os.environ['AWS_PROFILE']='stcgenai'\n",
    "\n",
    "session = boto3.Session()\n",
    "region = session.region_name\n",
    "print(f\"current region: {region}\")\n",
    "account_id = session.client(\"sts\").get_caller_identity()[\"Account\"]\n",
    "print(f\"current account: {account_id}\")\n"
   ]
  },
  {
   "cell_type": "markdown",
   "metadata": {},
   "source": [
    "### Create IAM Execution Role\n",
    "\n",
    "The AgentCore runtime requires an IAM role with specific permissions to:\n",
    "- Access Bedrock models for AI inference\n",
    "- Retrieve from knowledge bases (KB)\n",
    "- Write to CloudWatch logs\n",
    "- Access SSM Parameter for KB ID\n",
    "- Pull/push Docker images to ECR\n",
    "\n",
    "We'll create this role using our predefined policy templates that include all necessary permissions.\n"
   ]
  },
  {
   "cell_type": "code",
   "execution_count": null,
   "metadata": {},
   "outputs": [],
   "source": [
    "# Load policy from external file\n",
    "with open('policy.json', 'r') as f:\n",
    "    policy_template = f.read()\n",
    "\n",
    "# load trust policy from external file\n",
    "with open('trust-policy.json', 'r') as f:\n",
    "    trust_policy_template = f.read()\n",
    "\n",
    "policy = policy_template.replace('REGION', region).replace('ACCOUNT_ID', account_id).replace('REPO_ARN', '*')\n",
    "print(f\"Policy loaded and updated with region: {region}, account: {account_id}\")\n",
    "\n",
    "trust_policy = trust_policy_template.replace('REGION', region).replace('ACCOUNT_ID', account_id)\n",
    "\n",
    "# create IAM role using the policies\n",
    "suffix = random.choices(string.ascii_lowercase + string.digits, k=8)\n",
    "iam_client = boto3.client('iam')\n",
    "role_name = f\"bedrock-runtime-execution-role-{''.join(suffix)}\"\n",
    "\n",
    "role = iam_client.create_role(\n",
    "    RoleName=role_name,\n",
    "    AssumeRolePolicyDocument=trust_policy\n",
    ")\n",
    "\n",
    "iam_client.put_role_policy(\n",
    "    RoleName=role_name,\n",
    "    PolicyName='bedrock-runtime-execution-policy',\n",
    "    PolicyDocument=policy\n",
    ")"
   ]
  },
  {
   "cell_type": "markdown",
   "metadata": {},
   "source": [
    "### Initialize AgentCore Runtime\n",
    "\n",
    "The Runtime class provides a high-level interface to:\n",
    "- Configure agent deployment settings\n",
    "- Build and push Docker containers\n",
    "- Launch agents on AWS infrastructure\n",
    "- Invoke deployed agents\n",
    "\n",
    "This abstracts away the complexity of container orchestration and AWS service integration.\n"
   ]
  },
  {
   "cell_type": "code",
   "execution_count": 21,
   "metadata": {},
   "outputs": [],
   "source": [
    "agentcore_runtime = Runtime()"
   ]
  },
  {
   "cell_type": "markdown",
   "metadata": {},
   "source": [
    "### Configure Agent Deployment\n",
    "\n",
    "The `configure()` method sets up the deployment infrastructure:\n",
    "\n",
    "\n",
    "**What happens during configuration:**\n",
    "- Creates ECR repository and IAM role (if needed)\n",
    "- Generates Dockerfile and .dockerignore for containerization\n",
    "- Creates `.bedrock_agentcore.yaml` configuration file\n",
    "\n",
    "Here is the full parameter list\n",
    "```\n",
    "result = configure_bedrock_agentcore(\n",
    "            agent_name=agent_name,\n",
    "            entrypoint_path=Path(entrypoint),\n",
    "            execution_role=execution_role,\n",
    "            ecr_repository=ecr_repository,\n",
    "            container_runtime=container_runtime,\n",
    "            auto_create_ecr=auto_create_ecr,\n",
    "            enable_observability=not disable_otel,\n",
    "            requirements_file=final_requirements_file,\n",
    "            authorizer_configuration=oauth_config,\n",
    "            verbose=verbose,\n",
    "            region=region,\n",
    "            protocol=protocol.upper() if protocol else None,\n",
    "        )\n",
    "```"
   ]
  },
  {
   "cell_type": "code",
   "execution_count": null,
   "metadata": {},
   "outputs": [],
   "source": [
    "agent_name = \"mortage_assistant\"\n",
    "response = agentcore_runtime.configure(\n",
    "    entrypoint=\"langgraph-multi-agent.py\", #langgraph-single-agent.py\n",
    "    execution_role=role['Role']['Arn'],\n",
    "    # auto_create_execution_role=True,\n",
    "    auto_create_ecr=True,\n",
    "    requirements_file=\"requirements.txt\",\n",
    "    region=region,\n",
    "    agent_name=agent_name\n",
    "\n",
    ")"
   ]
  },
  {
   "cell_type": "markdown",
   "metadata": {},
   "source": [
    "### Launch Agent Runtime\n",
    "\n",
    "The `launch()` method triggers a CodeBuild job that:\n",
    "\n",
    "1. **Pre-build**: Authenticates with ECR registry\n",
    "2. **Build**: Creates ARM64 Docker image with your agent code\n",
    "3. **Post-build**: Pushes image to ECR and creates a Bedrock AgentCore runtime and deploys the agent\n"
   ]
  },
  {
   "cell_type": "code",
   "execution_count": null,
   "metadata": {},
   "outputs": [],
   "source": [
    "launch_result = agentcore_runtime.launch()"
   ]
  },
  {
   "cell_type": "markdown",
   "metadata": {},
   "source": [
    "Lets check the status of the agentcore runtime"
   ]
  },
  {
   "cell_type": "code",
   "execution_count": null,
   "metadata": {},
   "outputs": [],
   "source": [
    "import time\n",
    "status_response = agentcore_runtime.status()\n",
    "status = status_response.endpoint['status']\n",
    "end_status = ['READY', 'CREATE_FAILED', 'DELETE_FAILED', 'UPDATE_FAILED']\n",
    "while status not in end_status:\n",
    "    time.sleep(10)\n",
    "    status_response = agentcore_runtime.status()\n",
    "    status = status_response.endpoint['status']\n",
    "    print(status)\n",
    "print(status)"
   ]
  },
  {
   "cell_type": "markdown",
   "metadata": {},
   "source": [
    "Now, we we can invoke the runtime agent. The runtime agent will invoke the agent and the agent will invoke the model. The runtime agent will wait for the response from the model and return the response to the user."
   ]
  },
  {
   "cell_type": "code",
   "execution_count": null,
   "metadata": {},
   "outputs": [],
   "source": [
    "invoke_response = agentcore_runtime.invoke({\"prompt\": \"I am customer 123456 and I am considering refinancing my current mortgage. Before I make a decision, I would like to know my current mortgage details including my interest rate and remaining balance. Could you explain the main benefits and drawbacks of refinancing from a 30-year to a 15-year mortgage, and finally I am also curious about the current 15-year fixed rates to see if my mortgage repayments will be low\"})\n",
    "\n",
    "# Can you help me with mortgage info. Here is my customer id: 23455\"\n",
    "# I am customer 123456 and I am considering refinancing my current mortgage. Before I make a decision, I would like to know my current mortgage details including my interest rate and remaining balance. Could you explain the main benefits and drawbacks of refinancing from a 30-year to a 15-year mortgage, and finally I am also curious about the current 15-year fixed rates to see if my mortgage repayments will be low"
   ]
  },
  {
   "cell_type": "markdown",
   "metadata": {},
   "source": [
    "### Parse and Display Agent Response\n",
    "\n",
    "The response contains the full conversation flow between agents, including:\n",
    "- Agent handoffs and routing decisions\n",
    "- Tool calls to retrieve mortgage data\n",
    "- Knowledge base queries for general information\n",
    "- Final consolidated response to the customer\n"
   ]
  },
  {
   "cell_type": "code",
   "execution_count": 28,
   "metadata": {},
   "outputs": [],
   "source": [
    "data = json.loads(b''.join(invoke_response['response']).decode('utf-8'))\n",
    "\n",
    "messages = data['messages']"
   ]
  },
  {
   "cell_type": "code",
   "execution_count": null,
   "metadata": {},
   "outputs": [],
   "source": [
    "for msg in messages:\n",
    "    content = msg['content']\n",
    "    if isinstance(content, list):\n",
    "        content = ' '.join([item.get('text', str(item)) for item in content if isinstance(item, dict)])\n",
    "    print(f\"\\n{msg['type'].upper()}: {content}\")"
   ]
  },
  {
   "cell_type": "markdown",
   "metadata": {},
   "source": [
    "## Summary\n",
    "\n",
    "You've successfully deployed a multi-agent mortgage assistant that:\n",
    "\n",
    "✅ **Routes customers** to appropriate specialists automatically  \n",
    "✅ **Retrieves real-time data** using  tools  \n",
    "✅ **Accesses knowledge base** for general mortgage guidance  \n",
    "✅ **Handles complex queries** requiring multiple agent expertise  \n",
    "\n",
    "\n",
    "\n",
    "## Related Resources\n",
    "\n",
    "- [Bedrock AgentCore Documentation](https://docs.aws.amazon.com/bedrock/)\n",
    "- [LangGraph Guide](https://langchain-ai.github.io/langgraph/guides/)\n"
   ]
  }
 ],
 "metadata": {
  "kernelspec": {
   "display_name": "LangGraph Environment",
   "language": "python",
   "name": "langgraph-env"
  },
  "language_info": {
   "codemirror_mode": {
    "name": "ipython",
    "version": 3
   },
   "file_extension": ".py",
   "mimetype": "text/x-python",
   "name": "python",
   "nbconvert_exporter": "python",
   "pygments_lexer": "ipython3",
   "version": "3.12.2"
  }
 },
 "nbformat": 4,
 "nbformat_minor": 2
}
