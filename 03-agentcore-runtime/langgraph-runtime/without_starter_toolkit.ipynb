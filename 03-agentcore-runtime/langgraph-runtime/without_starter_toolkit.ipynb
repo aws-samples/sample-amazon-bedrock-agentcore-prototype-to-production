{
 "cells": [
  {
   "cell_type": "markdown",
   "metadata": {},
   "source": [
    "Lets create the agentcore runtime without the starter toolkit. We first create the ECR, AgentCore Execution Role. Then we build the docker image and push it to the ECR repo\n",
    "\n",
    "Once the image is ready for deployment, we use the Control Plane boto3 SDKs to create the Agent Runtime and Agent Runtime endpoints.\n",
    "\n",
    "Finally we shall use the Data Plane SDK to invoke the endpoint"
   ]
  },
  {
   "cell_type": "code",
   "execution_count": null,
   "metadata": {},
   "outputs": [],
   "source": [
    "%pip install -r requirements.txt -q --force-reinstall"
   ]
  },
  {
   "cell_type": "code",
   "execution_count": null,
   "metadata": {},
   "outputs": [],
   "source": [
    "import os\n",
    "import boto3\n",
    "import random\n",
    "import string\n",
    "import time\n",
    "\n",
    "# os.environ['AWS_PROFILE']='stcgenai'\n",
    "\n",
    "session = boto3.Session()\n",
    "region = session.region_name\n",
    "print(f\"current region: {region}\")\n",
    "account_id = session.client(\"sts\").get_caller_identity()[\"Account\"]\n",
    "print(f\"current account: {account_id}\")\n"
   ]
  },
  {
   "cell_type": "code",
   "execution_count": null,
   "metadata": {},
   "outputs": [],
   "source": [
    "agent_name = \"mortgage_agent\"\n",
    "suffix = random.choices(string.ascii_lowercase + string.digits, k=8)\n",
    "repo_name = f\"{agent_name}_{''.join(suffix)}\"\n",
    "print(repo_name)\n",
    "ecr_client = boto3.client('ecr')\n",
    "\n",
    "repo = ecr_client.create_repository(repositoryName=repo_name)\n",
    "\n",
    "repoArn = repo['repository']['repositoryArn']\n",
    "repo_uri = repo['repository']['repositoryUri']"
   ]
  },
  {
   "cell_type": "code",
   "execution_count": null,
   "metadata": {},
   "outputs": [],
   "source": [
    "# Load policy from external file\n",
    "with open('policy.json', 'r') as f:\n",
    "    policy_template = f.read()\n",
    "\n",
    "# load trust policy from external file\n",
    "with open('trust-policy.json', 'r') as f:\n",
    "    trust_policy_template = f.read()\n",
    "\n",
    "policy = policy_template.replace('REGION', region).replace('ACCOUNT_ID', account_id).replace('REPO_ARN', repoArn)\n",
    "print(f\"Policy loaded and updated with region: {region}, account: {account_id}, repo: {repo_name}\")\n",
    "\n",
    "trust_policy = trust_policy_template.replace('REGION', region).replace('ACCOUNT_ID', account_id)"
   ]
  },
  {
   "cell_type": "code",
   "execution_count": null,
   "metadata": {},
   "outputs": [],
   "source": [
    "# create IAM role using the policies\n",
    "iam_client = boto3.client('iam')\n",
    "role_name = f\"bedrock-runtime-execution-role-{''.join(suffix)}\"\n",
    "\n",
    "role = iam_client.create_role(\n",
    "    RoleName=role_name,\n",
    "    AssumeRolePolicyDocument=trust_policy\n",
    ")\n",
    "\n",
    "iam_client.put_role_policy(\n",
    "    RoleName=role_name,\n",
    "    PolicyName='bedrock-runtime-execution-policy',\n",
    "    PolicyDocument=policy\n",
    ")"
   ]
  },
  {
   "cell_type": "code",
   "execution_count": null,
   "metadata": {},
   "outputs": [],
   "source": [
    "import subprocess\n",
    "\n",
    "auth = ecr_client.get_authorization_token()\n",
    "token = auth['authorizationData'][0]['authorizationToken']\n",
    "endpoint = auth['authorizationData'][0]['proxyEndpoint']\n",
    "\n",
    "#ECR login\n",
    "login_cmd = f\"aws ecr get-login-password --region {region} | docker login --username AWS --password-stdin {repo_uri}\"\n",
    "subprocess.run(login_cmd, shell=True, check=True)\n"
   ]
  },
  {
   "cell_type": "code",
   "execution_count": null,
   "metadata": {},
   "outputs": [],
   "source": [
    "# Create buildx builder (ignore if exists)\n",
    "create_builder_cmd = \"docker buildx create --name arm64builder --use\"\n",
    "subprocess.run(create_builder_cmd, shell=True, check=False) "
   ]
  },
  {
   "cell_type": "code",
   "execution_count": null,
   "metadata": {},
   "outputs": [],
   "source": [
    "# Build ARM64 image with custom Dockerfile\n",
    "build_cmd = \"docker buildx build --platform linux/arm64 --load -f Dockerfile_custom -t bedrock-agentcore-arm64 .\"\n",
    "subprocess.run(build_cmd, shell=True, check=True)"
   ]
  },
  {
   "cell_type": "code",
   "execution_count": null,
   "metadata": {},
   "outputs": [],
   "source": [
    "# Tag the image\n",
    "tag_cmd = f\"docker tag bedrock-agentcore-arm64:latest {repo_uri}:latest\"\n",
    "subprocess.run(tag_cmd, shell=True, check=True)"
   ]
  },
  {
   "cell_type": "code",
   "execution_count": null,
   "metadata": {},
   "outputs": [],
   "source": [
    "# Push to ECR\n",
    "push_cmd = f\"docker push {repo_uri}:latest\"\n",
    "subprocess.run(push_cmd, shell=True, check=True)"
   ]
  },
  {
   "cell_type": "code",
   "execution_count": null,
   "metadata": {},
   "outputs": [],
   "source": [
    "# Create the client\n",
    "client = boto3.client('bedrock-agentcore-control')\n",
    "\n",
    "agent_name = \"langgraph_mortgage_agent\"\n",
    "agentRuntimeName = f\"{agent_name}_{''.join(suffix)}\"\n",
    "# Call the CreateAgentRuntime operation\n",
    "response = client.create_agent_runtime(\n",
    "    agentRuntimeName=agentRuntimeName,\n",
    "    agentRuntimeArtifact={\n",
    "        'containerConfiguration': {\n",
    "            'containerUri': f\"{repo_uri}:latest\"\n",
    "        }\n",
    "    },\n",
    "    networkConfiguration={\"networkMode\":\"PUBLIC\"},\n",
    "    roleArn=role['Role']['Arn']\n",
    ")\n",
    "\n",
    "print(f\"Status: {response['status']}\")"
   ]
  },
  {
   "cell_type": "markdown",
   "metadata": {},
   "source": [
    "##### Update the existing runtime with new image\n",
    "```\n",
    "response = client.update_agent_runtime(\n",
    "    agentRuntimeId=agent_runtime_id,\n",
    "    agentRuntimeArtifact={\n",
    "        'containerConfiguration': {\n",
    "            'containerUri': f\"{repo_uri}:latest\"\n",
    "        }\n",
    "    },\n",
    "    networkConfiguration={\"networkMode\": \"PUBLIC\"}, \n",
    "    roleArn=role['Role']['Arn'] \n",
    ")\n",
    "```\n"
   ]
  },
  {
   "cell_type": "code",
   "execution_count": null,
   "metadata": {},
   "outputs": [],
   "source": [
    "end_status = ['READY', 'CREATE_FAILED', 'UPDATE_FAILED']\n",
    "agent_runtime_id = response['agentRuntimeId']  \n",
    "status = response['status'] \n",
    "while status not in end_status:\n",
    "    print(\"Waiting for agent runtime to be ready\")\n",
    "    time.sleep(10)\n",
    "    current_response = client.get_agent_runtime(agentRuntimeId=agent_runtime_id)\n",
    "    status = current_response['status']\n",
    "    print(f\"Current status: {status}\")\n",
    "\n",
    "print(f\"Final status: {status}\")\n",
    "\n",
    "if status == 'READY':\n",
    "    print(f\"Agent runtime {agent_runtime_id} is ready\")\n",
    "else:\n",
    "    print(f\"Agent runtime {agent_runtime_id} creation failed\")"
   ]
  },
  {
   "cell_type": "code",
   "execution_count": 83,
   "metadata": {},
   "outputs": [],
   "source": [
    "agentRuntimeArn = response['agentRuntimeArn']\n",
    "\n",
    "endpoint_name = f\"DEV_{''.join(suffix)}\"\n",
    "\n",
    "endpoint_response = client.create_agent_runtime_endpoint(\n",
    "    agentRuntimeId=agent_runtime_id,\n",
    "    agentRuntimeVersion=response['agentRuntimeVersion'],\n",
    "    name=endpoint_name,\n",
    "    description='Endpoint for mortgage agent'\n",
    ")"
   ]
  },
  {
   "cell_type": "markdown",
   "metadata": {},
   "source": [
    "```\n",
    "endpoint_response = client.update_agent_runtime_endpoint(\n",
    "    agentRuntimeId=agent_runtime_id,\n",
    "    endpointName='production-endpoint',\n",
    "    agentRuntimeVersion=response['agentRuntimeVersion'],\n",
    "    description='Updated production endpoint'\n",
    ")\n",
    "```\n"
   ]
  },
  {
   "cell_type": "code",
   "execution_count": null,
   "metadata": {},
   "outputs": [],
   "source": [
    "end_status = ['READY', 'CREATE_FAILED', 'UPDATE_FAILED']\n",
    "endpoint_status = endpoint_response['status']\n",
    "\n",
    "while endpoint_status not in end_status:\n",
    "    print(\"Waiting for  runtime endpoint to be ready\")\n",
    "    time.sleep(10)\n",
    "    endpoint_current_response = client.get_agent_runtime_endpoint(\n",
    "    agentRuntimeId=agent_runtime_id,\n",
    "    endpointName=endpoint_name\n",
    ")\n",
    "    endpoint_status = endpoint_current_response['status']\n",
    "    print(f\"Endpoint status: {endpoint_status}\")\n",
    "\n",
    "print(f\"Final endpoint status: {endpoint_status}\")"
   ]
  },
  {
   "cell_type": "code",
   "execution_count": 85,
   "metadata": {},
   "outputs": [],
   "source": [
    "import json\n",
    "agentcore_client = boto3.client('bedrock-agentcore')"
   ]
  },
  {
   "cell_type": "markdown",
   "metadata": {},
   "source": [
    "Sample Prompts:\n",
    "\n",
    "- Can you help me with mortgage info. Here is my customer id: 23455\n",
    "- I am customer 123456 and I am considering refinancing my current mortgage. Before I make a decision, I would like to know my current mortgage details including my interest rate and remaining balance. Could you explain the main benefits and drawbacks of refinancing from a 30-year to a 15-year mortgage, and finally I am also curious about the current 15-year fixed rates to see if my mortgage repayments will be low\n"
   ]
  },
  {
   "cell_type": "code",
   "execution_count": 88,
   "metadata": {},
   "outputs": [],
   "source": [
    "\n",
    "input_text = json.dumps({\"prompt\": \"I am customer 123456 and I am considering refinancing my current mortgage. Before I make a decision, I would like to know my current mortgage details including my interest rate and remaining balance. Could you explain the main benefits and drawbacks of refinancing from a 30-year to a 15-year mortgage, and finally I am also curious about the current 15-year fixed rates to see if my mortgage repayments will be low\"})\n",
    "\n",
    "response = agentcore_client.invoke_agent_runtime(\n",
    "    agentRuntimeArn=agentRuntimeArn,\n",
    "    qualifier=endpoint_name,\n",
    "    payload=input_text\n",
    ")"
   ]
  },
  {
   "cell_type": "code",
   "execution_count": null,
   "metadata": {},
   "outputs": [],
   "source": [
    "data = json.loads(response['response'].read().decode('utf-8'))\n",
    "for msg in data['messages']:\n",
    "    content = msg['content']\n",
    "    if isinstance(content, list):\n",
    "        content = ' '.join([item.get('text', str(item)) for item in content if isinstance(item, dict)])\n",
    "    print(f\"\\n{msg['type'].upper()}: {content}\")"
   ]
  }
 ],
 "metadata": {
  "kernelspec": {
   "display_name": "LangGraph Environment",
   "language": "python",
   "name": "langgraph-env"
  },
  "language_info": {
   "codemirror_mode": {
    "name": "ipython",
    "version": 3
   },
   "file_extension": ".py",
   "mimetype": "text/x-python",
   "name": "python",
   "nbconvert_exporter": "python",
   "pygments_lexer": "ipython3",
   "version": "3.12.2"
  }
 },
 "nbformat": 4,
 "nbformat_minor": 2
}
